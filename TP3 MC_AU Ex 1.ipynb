{
 "cells": [
  {
   "cell_type": "markdown",
   "metadata": {},
   "source": [
    "# TP3 MC-AU \n",
    "### Premiere simulation\n",
    "Tracé du diagramme de Bode de la fonction de transfert $BO(s)=\\frac{G}{ms^2}$"
   ]
  },
  {
   "cell_type": "markdown",
   "metadata": {},
   "source": [
    "### Initialisation\n",
    "Les commandes suivantes sont à executer une seule fois "
   ]
  },
  {
   "cell_type": "code",
   "execution_count": 1,
   "metadata": {},
   "outputs": [],
   "source": [
    "%matplotlib widget\n",
    "# %matplotlib inline"
   ]
  },
  {
   "cell_type": "code",
   "execution_count": 2,
   "metadata": {},
   "outputs": [],
   "source": [
    "import control as ct\n",
    "import numpy as np\n",
    "import math\n",
    "import matplotlib.pyplot as plt"
   ]
  },
  {
   "cell_type": "markdown",
   "metadata": {},
   "source": [
    "## Définition de BO(p)\n",
    "\n",
    "La fonction de transfert en boucle ouverte est $BO(s)=\\frac{G}{ms^2} $\n",
    "  \n",
    "_Remarque_:\n",
    "pour les anglosaxons la variable de Laplace se note **s** et non pas **p**. On adoptera cette notation\n"
   ]
  },
  {
   "cell_type": "code",
   "execution_count": 4,
   "metadata": {
    "scrolled": true
   },
   "outputs": [
    {
     "name": "stdout",
     "output_type": "stream",
     "text": [
      "BO(s)= \n",
      " 5\n",
      "---\n",
      "s^2\n",
      "\n"
     ]
    }
   ],
   "source": [
    "# Caractéristiques du système\n",
    "G = 5\n",
    "m = 1 #[kg] \n",
    "# Construction de la fonction de transfert BO(s)\n",
    "BO=ct.TransferFunction([G],[m, 0, 0])\n",
    "print(\"BO(s)=\",BO)\n"
   ]
  },
  {
   "cell_type": "markdown",
   "metadata": {},
   "source": [
    "# Critère de stabilité: critère du Revers\n",
    "Un montage en boucle fermée sera stable si la réponse en fréquence (le Bode) de la fonction de transfert \n",
    "en boucle ouverte est telle que à la pulsation correspondante au passage du module par $0$dB la phase est \n",
    "strictement supérieure à $-180$°"
   ]
  },
  {
   "cell_type": "markdown",
   "metadata": {},
   "source": [
    "### Bode du système en boucle ouverte\n",
    "En positionnant la souris sur la courbe on peut obtenir la valeur du module en dB et de la phase en degrès  \n"
   ]
  },
  {
   "cell_type": "code",
   "execution_count": 8,
   "metadata": {},
   "outputs": [
    {
     "data": {
      "application/vnd.jupyter.widget-view+json": {
       "model_id": "3e2fdcb7838b4c21a9ee202bc349b084",
       "version_major": 2,
       "version_minor": 0
      },
      "text/plain": [
       "Canvas(toolbar=Toolbar(toolitems=[('Home', 'Reset original view', 'home', 'home'), ('Back', 'Back to previous …"
      ]
     },
     "metadata": {},
     "output_type": "display_data"
    }
   ],
   "source": [
    "plt.close(\"all\")\n",
    "# Tracé du diagramme de Bode de A(s)\n",
    "plt.figure(\"Bode du système en BO\")\n",
    "modA, phaseA, omegaA = ct.bode_plot(BO,dB=True)"
   ]
  },
  {
   "cell_type": "code",
   "execution_count": null,
   "metadata": {},
   "outputs": [],
   "source": []
  }
 ],
 "metadata": {
  "kernelspec": {
   "display_name": "Python 3",
   "language": "python",
   "name": "python3"
  },
  "language_info": {
   "codemirror_mode": {
    "name": "ipython",
    "version": 3
   },
   "file_extension": ".py",
   "mimetype": "text/x-python",
   "name": "python",
   "nbconvert_exporter": "python",
   "pygments_lexer": "ipython3",
   "version": "3.8.7"
  }
 },
 "nbformat": 4,
 "nbformat_minor": 4
}
